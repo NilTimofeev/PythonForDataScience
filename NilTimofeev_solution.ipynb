{
 "cells": [
  {
   "cell_type": "code",
   "execution_count": 1,
   "id": "e088836b",
   "metadata": {},
   "outputs": [],
   "source": [
    "import pandas as pd\n",
    "import numpy as np\n",
    "import pickle\n",
    "\n",
    "import seaborn as sns\n",
    "import matplotlib.pyplot as plt\n",
    "\n",
    "import missingno as msno\n",
    "\n",
    "from sklearn.model_selection import train_test_split, ShuffleSplit, cross_val_score, learning_curve\n",
    "from sklearn.metrics import classification_report, f1_score, precision_score, recall_score\n",
    "from catboost import CatBoostClassifier\n",
    "\n",
    "%matplotlib inline\n",
    "\n",
    "import warnings\n",
    "warnings.simplefilter('ignore')"
   ]
  },
  {
   "cell_type": "markdown",
   "id": "dfff2fc3",
   "metadata": {},
   "source": [
    "##### Отчет по метрикам:"
   ]
  },
  {
   "cell_type": "code",
   "execution_count": 2,
   "id": "7ac0ef6f",
   "metadata": {},
   "outputs": [],
   "source": [
    "def get_classification_report(y_train_true, y_train_pred, y_test_true, y_test_pred):\n",
    "    print('TRAIN\\n\\n' + classification_report(y_train_true, y_train_pred))\n",
    "    print('TEST\\n\\n' + classification_report(y_test_true, y_test_pred))\n",
    "    print('CONFUSION MATRIX\\n')\n",
    "    print(pd.crosstab(y_test_true, y_test_pred))"
   ]
  },
  {
   "cell_type": "markdown",
   "id": "20d6c50f",
   "metadata": {},
   "source": [
    "##### График для выбора границы принятия решения:"
   ]
  },
  {
   "cell_type": "code",
   "execution_count": 3,
   "id": "2796c057",
   "metadata": {},
   "outputs": [],
   "source": [
    "def show_proba_calibration_plots(y_predicted_probs, y_true_labels):\n",
    "    preds_with_true_labels = np.array(list(zip(y_predicted_probs, y_true_labels)))\n",
    "\n",
    "    thresholds = []\n",
    "    precisions = []\n",
    "    recalls = []\n",
    "    f1_scores = []\n",
    "\n",
    "    for threshold in np.linspace(0.1, 0.9, 9):\n",
    "        thresholds.append(threshold)\n",
    "        precisions.append(precision_score(y_true_labels, list(map(int, y_predicted_probs > threshold))))\n",
    "        recalls.append(recall_score(y_true_labels, list(map(int, y_predicted_probs > threshold))))\n",
    "        f1_scores.append(f1_score(y_true_labels, list(map(int, y_predicted_probs > threshold))))\n",
    "\n",
    "    scores_table = pd.DataFrame({'f1':f1_scores,\n",
    "                                 'precision':precisions,\n",
    "                                 'recall':recalls,\n",
    "                                 'probability':thresholds}).sort_values('f1', ascending=False).round(3)\n",
    "  \n",
    "    figure = plt.figure(figsize = (15, 5))\n",
    "\n",
    "    plt1 = figure.add_subplot(121)\n",
    "    plt1.plot(thresholds, precisions, label='Precision', linewidth=4)\n",
    "    plt1.plot(thresholds, recalls, label='Recall', linewidth=4)\n",
    "    plt1.plot(thresholds, f1_scores, label='F1', linewidth=4)\n",
    "    plt1.set_ylabel('Scores')\n",
    "    plt1.set_xlabel('Probability threshold')\n",
    "    plt1.set_title('Probabilities threshold calibration')\n",
    "    plt1.legend(bbox_to_anchor=(0.25, 0.25))   \n",
    "    plt1.table(cellText = scores_table.values,\n",
    "               colLabels = scores_table.columns, \n",
    "               colLoc = 'center', cellLoc = 'center', loc = 'bottom', bbox = [0, -1.3, 1, 1])\n",
    "\n",
    "    plt2 = figure.add_subplot(122)\n",
    "    plt2.hist(preds_with_true_labels[preds_with_true_labels[:, 1] == 0][:, 0], \n",
    "              label='Another class', color='royalblue', alpha=1)\n",
    "    plt2.hist(preds_with_true_labels[preds_with_true_labels[:, 1] == 1][:, 0], \n",
    "              label='Main class', color='darkcyan', alpha=0.8)\n",
    "    plt2.set_ylabel('Number of examples')\n",
    "    plt2.set_xlabel('Probabilities')\n",
    "    plt2.set_title('Probability histogram')\n",
    "    plt2.legend(bbox_to_anchor=(1, 1))\n",
    "\n",
    "    plt.show()"
   ]
  },
  {
   "cell_type": "code",
   "execution_count": 4,
   "id": "d1a70d1d",
   "metadata": {},
   "outputs": [],
   "source": [
    "DATASET_PATH = 'data/course_project_train.csv'\n",
    "TEST_DATASET_PATH = 'data/course_project_test.csv'\n",
    "PREP_DATASET_PATH = 'data/course_project_train_prep.csv'\n",
    "MODEL_FILE_PATH = 'models/model.pkl'"
   ]
  },
  {
   "cell_type": "markdown",
   "id": "4410088c",
   "metadata": {},
   "source": [
    "# 1. Анализ данных"
   ]
  },
  {
   "cell_type": "code",
   "execution_count": 5,
   "id": "b0f7ac94",
   "metadata": {},
   "outputs": [],
   "source": [
    "df = pd.read_csv(DATASET_PATH)"
   ]
  },
  {
   "cell_type": "code",
   "execution_count": 6,
   "id": "fd033d78",
   "metadata": {},
   "outputs": [
    {
     "name": "stdout",
     "output_type": "stream",
     "text": [
      "<class 'pandas.core.frame.DataFrame'>\n",
      "RangeIndex: 7500 entries, 0 to 7499\n",
      "Data columns (total 17 columns):\n",
      " #   Column                        Non-Null Count  Dtype  \n",
      "---  ------                        --------------  -----  \n",
      " 0   Home Ownership                7500 non-null   object \n",
      " 1   Annual Income                 5943 non-null   float64\n",
      " 2   Years in current job          7129 non-null   object \n",
      " 3   Tax Liens                     7500 non-null   float64\n",
      " 4   Number of Open Accounts       7500 non-null   float64\n",
      " 5   Years of Credit History       7500 non-null   float64\n",
      " 6   Maximum Open Credit           7500 non-null   float64\n",
      " 7   Number of Credit Problems     7500 non-null   float64\n",
      " 8   Months since last delinquent  3419 non-null   float64\n",
      " 9   Bankruptcies                  7486 non-null   float64\n",
      " 10  Purpose                       7500 non-null   object \n",
      " 11  Term                          7500 non-null   object \n",
      " 12  Current Loan Amount           7500 non-null   float64\n",
      " 13  Current Credit Balance        7500 non-null   float64\n",
      " 14  Monthly Debt                  7500 non-null   float64\n",
      " 15  Credit Score                  5943 non-null   float64\n",
      " 16  Credit Default                7500 non-null   int64  \n",
      "dtypes: float64(12), int64(1), object(4)\n",
      "memory usage: 996.2+ KB\n"
     ]
    }
   ],
   "source": [
    "df.info()"
   ]
  },
  {
   "cell_type": "code",
   "execution_count": 7,
   "id": "d68d2642",
   "metadata": {
    "scrolled": false
   },
   "outputs": [
    {
     "data": {
      "text/html": [
       "<div>\n",
       "<style scoped>\n",
       "    .dataframe tbody tr th:only-of-type {\n",
       "        vertical-align: middle;\n",
       "    }\n",
       "\n",
       "    .dataframe tbody tr th {\n",
       "        vertical-align: top;\n",
       "    }\n",
       "\n",
       "    .dataframe thead th {\n",
       "        text-align: right;\n",
       "    }\n",
       "</style>\n",
       "<table border=\"1\" class=\"dataframe\">\n",
       "  <thead>\n",
       "    <tr style=\"text-align: right;\">\n",
       "      <th></th>\n",
       "      <th>Annual Income</th>\n",
       "      <th>Tax Liens</th>\n",
       "      <th>Number of Open Accounts</th>\n",
       "      <th>Years of Credit History</th>\n",
       "      <th>Maximum Open Credit</th>\n",
       "      <th>Number of Credit Problems</th>\n",
       "      <th>Months since last delinquent</th>\n",
       "      <th>Bankruptcies</th>\n",
       "      <th>Current Loan Amount</th>\n",
       "      <th>Current Credit Balance</th>\n",
       "      <th>Monthly Debt</th>\n",
       "      <th>Credit Score</th>\n",
       "      <th>Credit Default</th>\n",
       "    </tr>\n",
       "  </thead>\n",
       "  <tbody>\n",
       "    <tr>\n",
       "      <th>count</th>\n",
       "      <td>5.943000e+03</td>\n",
       "      <td>7500.000000</td>\n",
       "      <td>7500.000000</td>\n",
       "      <td>7500.000000</td>\n",
       "      <td>7.500000e+03</td>\n",
       "      <td>7500.000000</td>\n",
       "      <td>3419.000000</td>\n",
       "      <td>7486.000000</td>\n",
       "      <td>7.500000e+03</td>\n",
       "      <td>7.500000e+03</td>\n",
       "      <td>7500.000000</td>\n",
       "      <td>5943.000000</td>\n",
       "      <td>7500.000000</td>\n",
       "    </tr>\n",
       "    <tr>\n",
       "      <th>mean</th>\n",
       "      <td>1.366392e+06</td>\n",
       "      <td>0.030133</td>\n",
       "      <td>11.130933</td>\n",
       "      <td>18.317467</td>\n",
       "      <td>9.451537e+05</td>\n",
       "      <td>0.170000</td>\n",
       "      <td>34.692600</td>\n",
       "      <td>0.117152</td>\n",
       "      <td>1.187318e+07</td>\n",
       "      <td>2.898332e+05</td>\n",
       "      <td>18314.454133</td>\n",
       "      <td>1151.087498</td>\n",
       "      <td>0.281733</td>\n",
       "    </tr>\n",
       "    <tr>\n",
       "      <th>std</th>\n",
       "      <td>8.453392e+05</td>\n",
       "      <td>0.271604</td>\n",
       "      <td>4.908924</td>\n",
       "      <td>7.041946</td>\n",
       "      <td>1.602622e+07</td>\n",
       "      <td>0.498598</td>\n",
       "      <td>21.688806</td>\n",
       "      <td>0.347192</td>\n",
       "      <td>3.192612e+07</td>\n",
       "      <td>3.178714e+05</td>\n",
       "      <td>11926.764673</td>\n",
       "      <td>1604.451418</td>\n",
       "      <td>0.449874</td>\n",
       "    </tr>\n",
       "    <tr>\n",
       "      <th>min</th>\n",
       "      <td>1.645970e+05</td>\n",
       "      <td>0.000000</td>\n",
       "      <td>2.000000</td>\n",
       "      <td>4.000000</td>\n",
       "      <td>0.000000e+00</td>\n",
       "      <td>0.000000</td>\n",
       "      <td>0.000000</td>\n",
       "      <td>0.000000</td>\n",
       "      <td>1.124200e+04</td>\n",
       "      <td>0.000000e+00</td>\n",
       "      <td>0.000000</td>\n",
       "      <td>585.000000</td>\n",
       "      <td>0.000000</td>\n",
       "    </tr>\n",
       "    <tr>\n",
       "      <th>25%</th>\n",
       "      <td>8.443410e+05</td>\n",
       "      <td>0.000000</td>\n",
       "      <td>8.000000</td>\n",
       "      <td>13.500000</td>\n",
       "      <td>2.792295e+05</td>\n",
       "      <td>0.000000</td>\n",
       "      <td>16.000000</td>\n",
       "      <td>0.000000</td>\n",
       "      <td>1.801690e+05</td>\n",
       "      <td>1.142565e+05</td>\n",
       "      <td>10067.500000</td>\n",
       "      <td>711.000000</td>\n",
       "      <td>0.000000</td>\n",
       "    </tr>\n",
       "    <tr>\n",
       "      <th>50%</th>\n",
       "      <td>1.168386e+06</td>\n",
       "      <td>0.000000</td>\n",
       "      <td>10.000000</td>\n",
       "      <td>17.000000</td>\n",
       "      <td>4.781590e+05</td>\n",
       "      <td>0.000000</td>\n",
       "      <td>32.000000</td>\n",
       "      <td>0.000000</td>\n",
       "      <td>3.095730e+05</td>\n",
       "      <td>2.093230e+05</td>\n",
       "      <td>16076.500000</td>\n",
       "      <td>731.000000</td>\n",
       "      <td>0.000000</td>\n",
       "    </tr>\n",
       "    <tr>\n",
       "      <th>75%</th>\n",
       "      <td>1.640137e+06</td>\n",
       "      <td>0.000000</td>\n",
       "      <td>14.000000</td>\n",
       "      <td>21.800000</td>\n",
       "      <td>7.935015e+05</td>\n",
       "      <td>0.000000</td>\n",
       "      <td>50.000000</td>\n",
       "      <td>0.000000</td>\n",
       "      <td>5.198820e+05</td>\n",
       "      <td>3.604062e+05</td>\n",
       "      <td>23818.000000</td>\n",
       "      <td>743.000000</td>\n",
       "      <td>1.000000</td>\n",
       "    </tr>\n",
       "    <tr>\n",
       "      <th>max</th>\n",
       "      <td>1.014934e+07</td>\n",
       "      <td>7.000000</td>\n",
       "      <td>43.000000</td>\n",
       "      <td>57.700000</td>\n",
       "      <td>1.304726e+09</td>\n",
       "      <td>7.000000</td>\n",
       "      <td>118.000000</td>\n",
       "      <td>4.000000</td>\n",
       "      <td>1.000000e+08</td>\n",
       "      <td>6.506797e+06</td>\n",
       "      <td>136679.000000</td>\n",
       "      <td>7510.000000</td>\n",
       "      <td>1.000000</td>\n",
       "    </tr>\n",
       "  </tbody>\n",
       "</table>\n",
       "</div>"
      ],
      "text/plain": [
       "       Annual Income    Tax Liens  Number of Open Accounts  \\\n",
       "count   5.943000e+03  7500.000000              7500.000000   \n",
       "mean    1.366392e+06     0.030133                11.130933   \n",
       "std     8.453392e+05     0.271604                 4.908924   \n",
       "min     1.645970e+05     0.000000                 2.000000   \n",
       "25%     8.443410e+05     0.000000                 8.000000   \n",
       "50%     1.168386e+06     0.000000                10.000000   \n",
       "75%     1.640137e+06     0.000000                14.000000   \n",
       "max     1.014934e+07     7.000000                43.000000   \n",
       "\n",
       "       Years of Credit History  Maximum Open Credit  \\\n",
       "count              7500.000000         7.500000e+03   \n",
       "mean                 18.317467         9.451537e+05   \n",
       "std                   7.041946         1.602622e+07   \n",
       "min                   4.000000         0.000000e+00   \n",
       "25%                  13.500000         2.792295e+05   \n",
       "50%                  17.000000         4.781590e+05   \n",
       "75%                  21.800000         7.935015e+05   \n",
       "max                  57.700000         1.304726e+09   \n",
       "\n",
       "       Number of Credit Problems  Months since last delinquent  Bankruptcies  \\\n",
       "count                7500.000000                   3419.000000   7486.000000   \n",
       "mean                    0.170000                     34.692600      0.117152   \n",
       "std                     0.498598                     21.688806      0.347192   \n",
       "min                     0.000000                      0.000000      0.000000   \n",
       "25%                     0.000000                     16.000000      0.000000   \n",
       "50%                     0.000000                     32.000000      0.000000   \n",
       "75%                     0.000000                     50.000000      0.000000   \n",
       "max                     7.000000                    118.000000      4.000000   \n",
       "\n",
       "       Current Loan Amount  Current Credit Balance   Monthly Debt  \\\n",
       "count         7.500000e+03            7.500000e+03    7500.000000   \n",
       "mean          1.187318e+07            2.898332e+05   18314.454133   \n",
       "std           3.192612e+07            3.178714e+05   11926.764673   \n",
       "min           1.124200e+04            0.000000e+00       0.000000   \n",
       "25%           1.801690e+05            1.142565e+05   10067.500000   \n",
       "50%           3.095730e+05            2.093230e+05   16076.500000   \n",
       "75%           5.198820e+05            3.604062e+05   23818.000000   \n",
       "max           1.000000e+08            6.506797e+06  136679.000000   \n",
       "\n",
       "       Credit Score  Credit Default  \n",
       "count   5943.000000     7500.000000  \n",
       "mean    1151.087498        0.281733  \n",
       "std     1604.451418        0.449874  \n",
       "min      585.000000        0.000000  \n",
       "25%      711.000000        0.000000  \n",
       "50%      731.000000        0.000000  \n",
       "75%      743.000000        1.000000  \n",
       "max     7510.000000        1.000000  "
      ]
     },
     "execution_count": 7,
     "metadata": {},
     "output_type": "execute_result"
    }
   ],
   "source": [
    "df.describe()"
   ]
  },
  {
   "cell_type": "code",
   "execution_count": 8,
   "id": "84faedd6",
   "metadata": {},
   "outputs": [
    {
     "data": {
      "text/plain": [
       "0    5387\n",
       "1    2113\n",
       "Name: Credit Default, dtype: int64"
      ]
     },
     "execution_count": 8,
     "metadata": {},
     "output_type": "execute_result"
    }
   ],
   "source": [
    "df['Credit Default'].value_counts()"
   ]
  },
  {
   "cell_type": "code",
   "execution_count": 9,
   "id": "3bce8f05",
   "metadata": {},
   "outputs": [
    {
     "data": {
      "text/plain": [
       "<AxesSubplot:>"
      ]
     },
     "execution_count": 9,
     "metadata": {},
     "output_type": "execute_result"
    },
    {
     "data": {
      "image/png": "[encoded data removed]",
      "text/plain": [
       "<Figure size 1800x720 with 2 Axes>"
      ]
     },
     "metadata": {
      "needs_background": "light"
     },
     "output_type": "display_data"
    }
   ],
   "source": [
    "msno.matrix(df.sort_values('Annual Income'))"
   ]
  },
  {
   "cell_type": "markdown",
   "id": "1cd2bb35",
   "metadata": {},
   "source": [
    "Для объектов с пропусками не увидел характеристик, которые помогли бы помочь восстановить значения. Буду заполнять медианами, модами и т.п. \n",
    "* **Credit Score** часто имеет очень большие значения. И во всех этих случаях Credit Default = 1. Можно попробовать добавить категориальный признак, обозначающий огромный рейтинг, а выбросы обработать.\n",
    "* **Current Loan Amount** тоже принимает огормные значения (все девятки). И такие объекты не отличаются от остальных."
   ]
  },
  {
   "cell_type": "code",
   "execution_count": 10,
   "id": "d82bc7a9",
   "metadata": {},
   "outputs": [
    {
     "data": {
      "text/plain": [
       "1    400\n",
       "Name: Credit Default, dtype: int64"
      ]
     },
     "execution_count": 10,
     "metadata": {},
     "output_type": "execute_result"
    }
   ],
   "source": [
    "df[df['Credit Score'] > 1000]['Credit Default'].value_counts()"
   ]
  },
  {
   "cell_type": "code",
   "execution_count": 11,
   "id": "a17b40a3",
   "metadata": {},
   "outputs": [],
   "source": [
    "df.loc[df['Annual Income'].isna(), 'Annual Income'] = df['Annual Income'].median()\n",
    "df.loc[df['Months since last delinquent'].isna(), 'Months since last delinquent'] = df['Months since last delinquent'].median()\n",
    "\n",
    "df.loc[df['Credit Score'].isna(), 'Credit Score'] = df['Credit Score'].median()\n",
    "df['Large_Score'] = 0\n",
    "df.loc[df['Credit Score']>1000, 'Large_Score'] = 1\n",
    "df = df.astype({'Large_Score': 'object'})\n",
    "df.loc[df['Credit Score']>1000, 'Credit Score'] = df[df['Credit Score']<1000]['Credit Score'].max()\n",
    "\n",
    "df.loc[df['Current Loan Amount']>4000000, 'Current Loan Amount'] = df[df['Current Loan Amount']<4000000]['Current Loan Amount'].mean()\n",
    "\n",
    "df.loc[df['Bankruptcies'].isna(), 'Bankruptcies'] = df['Bankruptcies'].mode()[0]\n",
    "df.loc[df['Years in current job'].isna(), 'Years in current job'] = df['Years in current job'].mode()[0]"
   ]
  },
  {
   "cell_type": "code",
   "execution_count": 12,
   "id": "39dac81e",
   "metadata": {
    "scrolled": false
   },
   "outputs": [
    {
     "name": "stdout",
     "output_type": "stream",
     "text": [
      "Home Ownership\n",
      "\n",
      "Home Mortgage    3637\n",
      "Rent             3204\n",
      "Own Home          647\n",
      "Have Mortgage      12\n",
      "Name: Home Ownership, dtype: int64\n",
      "****************************************************************************************************\n",
      "\n",
      "Years in current job\n",
      "\n",
      "10+ years    2703\n",
      "2 years       705\n",
      "3 years       620\n",
      "< 1 year      563\n",
      "5 years       516\n",
      "1 year        504\n",
      "4 years       469\n",
      "6 years       426\n",
      "7 years       396\n",
      "8 years       339\n",
      "9 years       259\n",
      "Name: Years in current job, dtype: int64\n",
      "****************************************************************************************************\n",
      "\n",
      "Purpose\n",
      "\n",
      "debt consolidation      5944\n",
      "other                    665\n",
      "home improvements        412\n",
      "business loan            129\n",
      "buy a car                 96\n",
      "medical bills             71\n",
      "major purchase            40\n",
      "take a trip               37\n",
      "buy house                 34\n",
      "small business            26\n",
      "wedding                   15\n",
      "moving                    11\n",
      "educational expenses      10\n",
      "vacation                   8\n",
      "renewable energy           2\n",
      "Name: Purpose, dtype: int64\n",
      "****************************************************************************************************\n",
      "\n",
      "Term\n",
      "\n",
      "Short Term    5556\n",
      "Long Term     1944\n",
      "Name: Term, dtype: int64\n",
      "****************************************************************************************************\n",
      "\n",
      "Large_Score\n",
      "\n",
      "0    7100\n",
      "1     400\n",
      "Name: Large_Score, dtype: int64\n",
      "****************************************************************************************************\n",
      "\n"
     ]
    }
   ],
   "source": [
    "for cat_colname in df.select_dtypes(include='object').columns:\n",
    "    print(str(cat_colname) + '\\n\\n' + str(df[cat_colname].value_counts()) + '\\n' + '*' * 100 + '\\n')"
   ]
  },
  {
   "cell_type": "markdown",
   "id": "542b294d",
   "metadata": {},
   "source": [
    "* **Home Ownership**.\n",
    "Тут две крупные группы: ипотечники и арендаторы. Есть так же владельцы жилья, их можно попробовать объединить с кем-то. Скорее с ипотечниками, чем с арендаторами. И те и другие пользуются площадью, могут сдавать ее в аренду арендаторам.\n",
    "* **Purpose**.\n",
    "Видим, что большая часть кредитов идет на обеспечение **уже имеющихся кредитных обязательств**. Это гиблое дело. Оставлю две категории: debt consolidation и not debt consolidation\n",
    "* **Years in current job**.\n",
    "Вероятно, категорий слишком много, и нет большой разницы между длительностью 7 и 8 лет, например."
   ]
  },
  {
   "cell_type": "code",
   "execution_count": 13,
   "id": "1c6c9de7",
   "metadata": {},
   "outputs": [],
   "source": [
    "df['Home_Ownership'] = 1\n",
    "df.loc[df['Home Ownership']=='Rent', 'Home_Ownership'] = 0\n",
    "\n",
    "df['Debt_Consolidation'] = 0\n",
    "df.loc[df['Purpose']=='debt consolidation', 'Debt_Consolidation'] = 1\n",
    "\n",
    "df['Years_in_current_job'] = 1\n",
    "df.loc[df['Years in current job'].isin(['2 years', '3 years', '4 years']), 'Years_in_current_job'] = 2\n",
    "df.loc[df['Years in current job'].isin(['5 years', '6 years', '7 years']), 'Years_in_current_job'] = 3\n",
    "df.loc[df['Years in current job'].isin(['8 years', '9 years', '10+ years']), 'Years_in_current_job'] = 4\n",
    "\n",
    "df = df.astype({'Home_Ownership': 'object', 'Debt_Consolidation': 'object', 'Years_in_current_job': 'object'})\n",
    "df.drop(['Home Ownership', 'Purpose', 'Years in current job'], axis=1, inplace=True)"
   ]
  },
  {
   "cell_type": "code",
   "execution_count": 14,
   "id": "87ca1ce4",
   "metadata": {},
   "outputs": [
    {
     "data": {
      "text/plain": [
       "0.0    6674\n",
       "1.0     786\n",
       "2.0      31\n",
       "3.0       7\n",
       "4.0       2\n",
       "Name: Bankruptcies, dtype: int64"
      ]
     },
     "execution_count": 14,
     "metadata": {},
     "output_type": "execute_result"
    }
   ],
   "source": [
    "df['Bankruptcies'].value_counts()"
   ]
  },
  {
   "cell_type": "markdown",
   "id": "4f38dfcc",
   "metadata": {},
   "source": [
    "**Bankruptcies**. Огромная группа без банкротств. Оставляем две категории, не важно сколько было банкроств"
   ]
  },
  {
   "cell_type": "code",
   "execution_count": 15,
   "id": "1fb1e8c2",
   "metadata": {},
   "outputs": [
    {
     "data": {
      "text/plain": [
       "32.0     4132\n",
       "14.0       76\n",
       "29.0       71\n",
       "33.0       68\n",
       "8.0        68\n",
       "         ... \n",
       "86.0        1\n",
       "118.0       1\n",
       "84.0        1\n",
       "91.0        1\n",
       "92.0        1\n",
       "Name: Months since last delinquent, Length: 89, dtype: int64"
      ]
     },
     "execution_count": 15,
     "metadata": {},
     "output_type": "execute_result"
    }
   ],
   "source": [
    "df['Months since last delinquent'].value_counts()"
   ]
  },
  {
   "cell_type": "code",
   "execution_count": 16,
   "id": "6a3be25d",
   "metadata": {},
   "outputs": [
    {
     "data": {
      "text/plain": [
       "0.0    6469\n",
       "1.0     882\n",
       "2.0      93\n",
       "3.0      35\n",
       "4.0       9\n",
       "5.0       7\n",
       "6.0       4\n",
       "7.0       1\n",
       "Name: Number of Credit Problems, dtype: int64"
      ]
     },
     "execution_count": 16,
     "metadata": {},
     "output_type": "execute_result"
    }
   ],
   "source": [
    "df['Number of Credit Problems'].value_counts()"
   ]
  },
  {
   "cell_type": "markdown",
   "id": "a6b72c9c",
   "metadata": {},
   "source": [
    "**Number of Credit Problems**. Опять же две категории. Были проблемы или нет."
   ]
  },
  {
   "cell_type": "code",
   "execution_count": 17,
   "id": "597bef75",
   "metadata": {
    "scrolled": true
   },
   "outputs": [
    {
     "data": {
      "text/plain": [
       "0.0    7366\n",
       "1.0      83\n",
       "2.0      30\n",
       "3.0      10\n",
       "4.0       6\n",
       "6.0       2\n",
       "5.0       2\n",
       "7.0       1\n",
       "Name: Tax Liens, dtype: int64"
      ]
     },
     "execution_count": 17,
     "metadata": {},
     "output_type": "execute_result"
    }
   ],
   "source": [
    "df['Tax Liens'].value_counts()"
   ]
  },
  {
   "cell_type": "markdown",
   "id": "9499d65d",
   "metadata": {},
   "source": [
    "**Tax Liens**. Оставляем две категории"
   ]
  },
  {
   "cell_type": "code",
   "execution_count": 18,
   "id": "d41fc6d4",
   "metadata": {},
   "outputs": [
    {
     "data": {
      "text/plain": [
       "9.0     728\n",
       "11.0    692\n",
       "10.0    677\n",
       "8.0     638\n",
       "7.0     613\n",
       "12.0    562\n",
       "6.0     504\n",
       "13.0    465\n",
       "14.0    420\n",
       "5.0     325\n",
       "15.0    313\n",
       "16.0    265\n",
       "17.0    232\n",
       "4.0     212\n",
       "18.0    143\n",
       "19.0    139\n",
       "3.0      95\n",
       "20.0     93\n",
       "21.0     78\n",
       "23.0     59\n",
       "24.0     50\n",
       "22.0     49\n",
       "25.0     32\n",
       "2.0      28\n",
       "28.0     14\n",
       "27.0     14\n",
       "26.0     12\n",
       "30.0     11\n",
       "29.0     10\n",
       "32.0      6\n",
       "33.0      6\n",
       "31.0      6\n",
       "34.0      2\n",
       "37.0      2\n",
       "43.0      1\n",
       "41.0      1\n",
       "38.0      1\n",
       "35.0      1\n",
       "42.0      1\n",
       "Name: Number of Open Accounts, dtype: int64"
      ]
     },
     "execution_count": 18,
     "metadata": {},
     "output_type": "execute_result"
    }
   ],
   "source": [
    "df['Number of Open Accounts'].value_counts()"
   ]
  },
  {
   "cell_type": "code",
   "execution_count": 19,
   "id": "6a040300",
   "metadata": {},
   "outputs": [],
   "source": [
    "df['Credit Problems'] = 1\n",
    "df.loc[df['Number of Credit Problems']==0, 'Credit Problems'] = 0\n",
    "\n",
    "df['Bankruptcies_'] = 1\n",
    "df.loc[df['Bankruptcies']==0, 'Bankruptcies_'] = 0\n",
    "\n",
    "df['Tax_Liens'] = 1\n",
    "df.loc[df['Tax Liens']==0, 'Tax_Liens'] = 0\n",
    "\n",
    "df = df.astype({'Credit Problems': 'object', 'Bankruptcies_': 'object', 'Tax_Liens': 'object'})\n",
    "df.drop(['Number of Credit Problems', 'Bankruptcies', 'Tax Liens'], axis=1, inplace=True)"
   ]
  },
  {
   "cell_type": "code",
   "execution_count": 20,
   "id": "6804d012",
   "metadata": {},
   "outputs": [
    {
     "name": "stdout",
     "output_type": "stream",
     "text": [
      "<class 'pandas.core.frame.DataFrame'>\n",
      "RangeIndex: 7500 entries, 0 to 7499\n",
      "Data columns (total 18 columns):\n",
      " #   Column                        Non-Null Count  Dtype  \n",
      "---  ------                        --------------  -----  \n",
      " 0   Annual Income                 7500 non-null   float64\n",
      " 1   Number of Open Accounts       7500 non-null   float64\n",
      " 2   Years of Credit History       7500 non-null   float64\n",
      " 3   Maximum Open Credit           7500 non-null   float64\n",
      " 4   Months since last delinquent  7500 non-null   float64\n",
      " 5   Term                          7500 non-null   object \n",
      " 6   Current Loan Amount           7500 non-null   float64\n",
      " 7   Current Credit Balance        7500 non-null   float64\n",
      " 8   Monthly Debt                  7500 non-null   float64\n",
      " 9   Credit Score                  7500 non-null   float64\n",
      " 10  Credit Default                7500 non-null   int64  \n",
      " 11  Large_Score                   7500 non-null   object \n",
      " 12  Home_Ownership                7500 non-null   object \n",
      " 13  Debt_Consolidation            7500 non-null   object \n",
      " 14  Years_in_current_job          7500 non-null   object \n",
      " 15  Credit Problems               7500 non-null   object \n",
      " 16  Bankruptcies_                 7500 non-null   object \n",
      " 17  Tax_Liens                     7500 non-null   object \n",
      "dtypes: float64(9), int64(1), object(8)\n",
      "memory usage: 1.0+ MB\n"
     ]
    }
   ],
   "source": [
    "df.info()"
   ]
  },
  {
   "cell_type": "code",
   "execution_count": 21,
   "id": "a21b614e",
   "metadata": {},
   "outputs": [
    {
     "data": {
      "text/plain": [
       "Text(0.5, 1.0, 'Корреляция признаков')"
      ]
     },
     "execution_count": 21,
     "metadata": {},
     "output_type": "execute_result"
    },
    {
     "data": {
      "image/png": "[encoded data removed]",
      "text/plain": [
       "<Figure size 1152x432 with 2 Axes>"
      ]
     },
     "metadata": {
      "needs_background": "light"
     },
     "output_type": "display_data"
    }
   ],
   "source": [
    "plt.figure(figsize=(16, 6)) \n",
    "\n",
    "heatmap = sns.heatmap(df.corr(), vmin=-1, vmax=1, annot=True, cmap='YlGnBu') \n",
    "heatmap.set_title('Корреляция признаков', fontdict={'fontsize':18}, pad=16)"
   ]
  },
  {
   "cell_type": "code",
   "execution_count": 22,
   "id": "69132858",
   "metadata": {},
   "outputs": [],
   "source": [
    "df.to_csv(PREP_DATASET_PATH, encoding='utf-8', index=False)"
   ]
  },
  {
   "cell_type": "markdown",
   "id": "a5843ce1",
   "metadata": {},
   "source": [
    "##### Класс для подготовки данных:"
   ]
  },
  {
   "cell_type": "code",
   "execution_count": 23,
   "id": "34f9c086",
   "metadata": {},
   "outputs": [],
   "source": [
    "class DataPreparation():\n",
    "    \n",
    "    def __init__(self):\n",
    "        \n",
    "        self.medians = None\n",
    "        self.modes = None\n",
    "        self.max_credit_score = None\n",
    "        self.current_loan_ammount = None\n",
    "        \n",
    "        \n",
    "    def fit(self, df):\n",
    "        \n",
    "        self.medians = df.median()\n",
    "        self.modes = df.mode()\n",
    "        self.max_credit_score = df[df['Credit Score']<1000]['Credit Score'].max()\n",
    "        self.mean_current_loan_ammount = df[df['Current Loan Amount']<4000000]['Current Loan Amount'].mean()\n",
    "        \n",
    "        \n",
    "    def transform(self, df):\n",
    "        \n",
    "        df.copy()\n",
    "        \n",
    "        df.loc[df['Annual Income'].isna(), 'Annual Income'] = self.medians['Annual Income']\n",
    "        df.loc[df['Months since last delinquent'].isna(), 'Months since last delinquent'] = self.medians['Months since last delinquent']\n",
    "        df.loc[df['Credit Score'].isna(), 'Credit Score'] = self.medians['Credit Score']\n",
    "        \n",
    "        df['Large_Score'] = 0\n",
    "        df.loc[df['Credit Score']>1000, 'Large_Score'] = 1\n",
    "        df.loc[df['Credit Score']>1000, 'Credit Score'] = self.max_credit_score\n",
    "        \n",
    "        df.loc[df['Current Loan Amount']>4000000, 'Current Loan Amount'] = self.mean_current_loan_ammount\n",
    "        \n",
    "        df.loc[df['Bankruptcies'].isna(), 'Bankruptcies'] = self.modes['Bankruptcies'][0]\n",
    "        \n",
    "        df.loc[df['Years in current job'].isna(), 'Years in current job'] = self.modes['Years in current job'][0]\n",
    "        \n",
    "        df['Home_Ownership'] = 1\n",
    "        df.loc[df['Home Ownership']=='Rent', 'Home_Ownership'] = 0\n",
    "        \n",
    "        df['Debt_Consolidation'] = 0\n",
    "        df.loc[df['Purpose']=='debt consolidation', 'Debt_Consolidation'] = 1\n",
    "        \n",
    "        df['Years_in_current_job'] = 1\n",
    "        df.loc[df['Years in current job'].isin(['2 years', '3 years', '4 years']), 'Years_in_current_job'] = 2\n",
    "        df.loc[df['Years in current job'].isin(['5 years', '6 years', '7 years']), 'Years_in_current_job'] = 3\n",
    "        df.loc[df['Years in current job'].isin(['8 years', '9 years', '10+ years']), 'Years_in_current_job'] = 4\n",
    "        \n",
    "        df['Credit Problems'] = 1\n",
    "        df.loc[df['Number of Credit Problems']==0, 'Credit Problems'] = 0\n",
    "\n",
    "        df['Bankruptcies_'] = 1\n",
    "        df.loc[df['Bankruptcies']==0, 'Bankruptcies_'] = 0\n",
    "\n",
    "        df['Tax_Liens'] = 1\n",
    "        df.loc[df['Tax Liens']==0, 'Tax_Liens'] = 0\n",
    "        \n",
    "        df = df.astype({'Home_Ownership': 'object', 'Debt_Consolidation': 'object', 'Years_in_current_job': 'object', \\\n",
    "                        'Large_Score': 'object', 'Credit Problems': 'object', 'Bankruptcies_': 'object', 'Tax_Liens': 'object'})\n",
    "        \n",
    "        df.drop(['Home Ownership', 'Purpose', 'Years in current job', 'Number of Credit Problems', 'Bankruptcies', 'Tax Liens'], axis=1, inplace=True)\n",
    "        \n",
    "        df.fillna(self.medians, inplace=True)\n",
    "        \n",
    "        return df\n",
    "        "
   ]
  },
  {
   "cell_type": "code",
   "execution_count": 24,
   "id": "ad1cef43",
   "metadata": {},
   "outputs": [],
   "source": [
    "CAT_FEATURE_NAMES = ['Term', 'Large_Score','Home_Ownership','Debt_Consolidation','Years_in_current_job','Credit Problems', \\\n",
    "                    'Bankruptcies_','Tax_Liens']\n",
    "\n",
    "NUM_FEATURE_NAMES = ['Annual Income','Number of Open Accounts','Years of Credit History','Maximum Open Credit', \\\n",
    "                    'Months since last delinquent','Current Loan Amount','Current Credit Balance','Monthly Debt','Credit Score']\n",
    "\n",
    "TARGET_NAME = 'Credit Default'"
   ]
  },
  {
   "cell_type": "markdown",
   "id": "954ba4aa",
   "metadata": {},
   "source": [
    "# 2. Обучение моделей"
   ]
  },
  {
   "cell_type": "code",
   "execution_count": 25,
   "id": "897c14d6",
   "metadata": {},
   "outputs": [],
   "source": [
    "df = pd.read_csv(DATASET_PATH)\n",
    "\n",
    "X = df.drop(columns=TARGET_NAME)\n",
    "y = df[TARGET_NAME]\n",
    "\n",
    "X_train, X_test, y_train, y_test = train_test_split(X, y, shuffle=True, test_size=0.30, random_state=31)"
   ]
  },
  {
   "cell_type": "code",
   "execution_count": 26,
   "id": "9484030f",
   "metadata": {},
   "outputs": [
    {
     "data": {
      "text/plain": [
       "((5250, 17), (2250, 17))"
      ]
     },
     "execution_count": 26,
     "metadata": {},
     "output_type": "execute_result"
    }
   ],
   "source": [
    "data_prep = DataPreparation()\n",
    "\n",
    "data_prep.fit(X_train)\n",
    "\n",
    "X_train = data_prep.transform(X_train)\n",
    "X_test = data_prep.transform(X_test)\n",
    "\n",
    "X_train.shape, X_test.shape"
   ]
  },
  {
   "cell_type": "markdown",
   "id": "77c0fd09",
   "metadata": {},
   "source": [
    "##### Далее обучаю модель. Вижу, что порог принятий решений 0,5 не подходит. Выбираю оптимальный порог, но модель переобучена."
   ]
  },
  {
   "cell_type": "code",
   "execution_count": 27,
   "id": "baaf86ee",
   "metadata": {},
   "outputs": [
    {
     "data": {
      "text/plain": [
       "<catboost.core.CatBoostClassifier at 0x276cdd59850>"
      ]
     },
     "execution_count": 27,
     "metadata": {},
     "output_type": "execute_result"
    }
   ],
   "source": [
    "catboost = CatBoostClassifier(silent=True,\n",
    "                              iterations=700,\n",
    "                              depth=4,\n",
    "                              l2_leaf_reg=11,\n",
    "                              learning_rate=0.025,\n",
    "                              grow_policy= 'Lossguide',\n",
    "                              max_leaves = 70,\n",
    "                              random_state=21)\n",
    "catboost.fit(X_train, y_train, cat_features=CAT_FEATURE_NAMES)"
   ]
  },
  {
   "cell_type": "code",
   "execution_count": 28,
   "id": "d5f8d93a",
   "metadata": {},
   "outputs": [
    {
     "name": "stdout",
     "output_type": "stream",
     "text": [
      "TRAIN\n",
      "\n",
      "              precision    recall  f1-score   support\n",
      "\n",
      "           0       0.81      0.99      0.89      3785\n",
      "           1       0.94      0.41      0.57      1465\n",
      "\n",
      "    accuracy                           0.83      5250\n",
      "   macro avg       0.88      0.70      0.73      5250\n",
      "weighted avg       0.85      0.83      0.80      5250\n",
      "\n",
      "TEST\n",
      "\n",
      "              precision    recall  f1-score   support\n",
      "\n",
      "           0       0.77      0.96      0.86      1602\n",
      "           1       0.76      0.30      0.43       648\n",
      "\n",
      "    accuracy                           0.77      2250\n",
      "   macro avg       0.77      0.63      0.64      2250\n",
      "weighted avg       0.77      0.77      0.73      2250\n",
      "\n",
      "CONFUSION MATRIX\n",
      "\n",
      "col_0              0    1\n",
      "Credit Default           \n",
      "0               1542   60\n",
      "1                455  193\n"
     ]
    }
   ],
   "source": [
    "y_train_pred = catboost.predict(X_train)\n",
    "y_test_pred = catboost.predict(X_test)\n",
    "y_train_pred_probs = catboost.predict_proba(X_train)\n",
    "y_test_pred_probs = catboost.predict_proba(X_test)\n",
    "\n",
    "get_classification_report(y_train, y_train_pred, y_test, y_test_pred)"
   ]
  },
  {
   "cell_type": "code",
   "execution_count": 29,
   "id": "80229fed",
   "metadata": {},
   "outputs": [
    {
     "data": {
      "image/png": "[encoded data removed]",
      "text/plain": [
       "<Figure size 1080x360 with 2 Axes>"
      ]
     },
     "metadata": {
      "needs_background": "light"
     },
     "output_type": "display_data"
    }
   ],
   "source": [
    "show_proba_calibration_plots(y_test_pred_probs[:, 1], y_test)"
   ]
  },
  {
   "cell_type": "code",
   "execution_count": 30,
   "id": "8d44e316",
   "metadata": {},
   "outputs": [],
   "source": [
    "pred_test = np.array([1 if val > 0.30 else 0 for val in y_test_pred_probs[:,1]])\n",
    "pred_train = np.array([1 if val > 0.30 else 0 for val in y_train_pred_probs[:,1]])"
   ]
  },
  {
   "cell_type": "code",
   "execution_count": 31,
   "id": "380fa658",
   "metadata": {
    "scrolled": false
   },
   "outputs": [
    {
     "name": "stdout",
     "output_type": "stream",
     "text": [
      "TRAIN\n",
      "\n",
      "              precision    recall  f1-score   support\n",
      "\n",
      "           0       0.91      0.85      0.88      3785\n",
      "           1       0.67      0.77      0.72      1465\n",
      "\n",
      "    accuracy                           0.83      5250\n",
      "   macro avg       0.79      0.81      0.80      5250\n",
      "weighted avg       0.84      0.83      0.83      5250\n",
      "\n",
      "TEST\n",
      "\n",
      "              precision    recall  f1-score   support\n",
      "\n",
      "           0       0.82      0.77      0.79      1602\n",
      "           1       0.50      0.58      0.54       648\n",
      "\n",
      "    accuracy                           0.72      2250\n",
      "   macro avg       0.66      0.67      0.67      2250\n",
      "weighted avg       0.73      0.72      0.72      2250\n",
      "\n",
      "CONFUSION MATRIX\n",
      "\n",
      "col_0              0    1\n",
      "Credit Default           \n",
      "0               1234  368\n",
      "1                273  375\n"
     ]
    }
   ],
   "source": [
    "get_classification_report(y_train, pred_train, y_test, pred_test)"
   ]
  },
  {
   "cell_type": "markdown",
   "id": "6d771ffe",
   "metadata": {},
   "source": [
    "##### Выбираю оптимальные параметры для избежания переобучения модели. Получаю приемлемый результат"
   ]
  },
  {
   "cell_type": "code",
   "execution_count": 32,
   "id": "9473b466",
   "metadata": {},
   "outputs": [
    {
     "data": {
      "text/plain": [
       "<catboost.core.CatBoostClassifier at 0x276cdf928e0>"
      ]
     },
     "execution_count": 32,
     "metadata": {},
     "output_type": "execute_result"
    }
   ],
   "source": [
    "catboost_final = CatBoostClassifier(silent=True,\n",
    "                              iterations=200,\n",
    "                              depth=3,\n",
    "                              l2_leaf_reg=7,\n",
    "                              learning_rate=0.01,\n",
    "                              grow_policy= 'Lossguide',\n",
    "                              max_leaves = 100,\n",
    "                              random_state=111)\n",
    "catboost_final.fit(X_train, y_train, cat_features=CAT_FEATURE_NAMES)"
   ]
  },
  {
   "cell_type": "code",
   "execution_count": 33,
   "id": "ad8da479",
   "metadata": {},
   "outputs": [
    {
     "name": "stdout",
     "output_type": "stream",
     "text": [
      "TRAIN\n",
      "\n",
      "              precision    recall  f1-score   support\n",
      "\n",
      "           0       0.82      0.80      0.81      3785\n",
      "           1       0.52      0.55      0.54      1465\n",
      "\n",
      "    accuracy                           0.73      5250\n",
      "   macro avg       0.67      0.68      0.67      5250\n",
      "weighted avg       0.74      0.73      0.74      5250\n",
      "\n",
      "TEST\n",
      "\n",
      "              precision    recall  f1-score   support\n",
      "\n",
      "           0       0.82      0.79      0.80      1602\n",
      "           1       0.52      0.57      0.54       648\n",
      "\n",
      "    accuracy                           0.72      2250\n",
      "   macro avg       0.67      0.68      0.67      2250\n",
      "weighted avg       0.73      0.72      0.73      2250\n",
      "\n",
      "CONFUSION MATRIX\n",
      "\n",
      "col_0              0    1\n",
      "Credit Default           \n",
      "0               1263  339\n",
      "1                280  368\n"
     ]
    }
   ],
   "source": [
    "y_train_pred = catboost_final.predict(X_train)\n",
    "y_test_pred = catboost_final.predict(X_test)\n",
    "y_train_pred_probs = catboost_final.predict_proba(X_train)\n",
    "y_test_pred_probs = catboost_final.predict_proba(X_test)\n",
    "\n",
    "pred_test = np.array([1 if val > 0.29 else 0 for val in y_test_pred_probs[:,1]])\n",
    "pred_train = np.array([1 if val > 0.29 else 0 for val in y_train_pred_probs[:,1]])\n",
    "\n",
    "get_classification_report(y_train, pred_train, y_test, pred_test)"
   ]
  },
  {
   "cell_type": "code",
   "execution_count": 34,
   "id": "7078a9ca",
   "metadata": {
    "scrolled": false
   },
   "outputs": [
    {
     "data": {
      "text/html": [
       "<div>\n",
       "<style scoped>\n",
       "    .dataframe tbody tr th:only-of-type {\n",
       "        vertical-align: middle;\n",
       "    }\n",
       "\n",
       "    .dataframe tbody tr th {\n",
       "        vertical-align: top;\n",
       "    }\n",
       "\n",
       "    .dataframe thead th {\n",
       "        text-align: right;\n",
       "    }\n",
       "</style>\n",
       "<table border=\"1\" class=\"dataframe\">\n",
       "  <thead>\n",
       "    <tr style=\"text-align: right;\">\n",
       "      <th></th>\n",
       "      <th>Feature Id</th>\n",
       "      <th>Importances</th>\n",
       "    </tr>\n",
       "  </thead>\n",
       "  <tbody>\n",
       "    <tr>\n",
       "      <th>0</th>\n",
       "      <td>Large_Score</td>\n",
       "      <td>70.755899</td>\n",
       "    </tr>\n",
       "    <tr>\n",
       "      <th>1</th>\n",
       "      <td>Current Loan Amount</td>\n",
       "      <td>10.779937</td>\n",
       "    </tr>\n",
       "    <tr>\n",
       "      <th>2</th>\n",
       "      <td>Credit Score</td>\n",
       "      <td>8.557765</td>\n",
       "    </tr>\n",
       "    <tr>\n",
       "      <th>3</th>\n",
       "      <td>Term</td>\n",
       "      <td>4.130540</td>\n",
       "    </tr>\n",
       "    <tr>\n",
       "      <th>4</th>\n",
       "      <td>Annual Income</td>\n",
       "      <td>3.221372</td>\n",
       "    </tr>\n",
       "    <tr>\n",
       "      <th>5</th>\n",
       "      <td>Maximum Open Credit</td>\n",
       "      <td>0.599759</td>\n",
       "    </tr>\n",
       "    <tr>\n",
       "      <th>6</th>\n",
       "      <td>Home_Ownership</td>\n",
       "      <td>0.395875</td>\n",
       "    </tr>\n",
       "    <tr>\n",
       "      <th>7</th>\n",
       "      <td>Monthly Debt</td>\n",
       "      <td>0.379080</td>\n",
       "    </tr>\n",
       "    <tr>\n",
       "      <th>8</th>\n",
       "      <td>Years of Credit History</td>\n",
       "      <td>0.301305</td>\n",
       "    </tr>\n",
       "    <tr>\n",
       "      <th>9</th>\n",
       "      <td>Months since last delinquent</td>\n",
       "      <td>0.270120</td>\n",
       "    </tr>\n",
       "    <tr>\n",
       "      <th>10</th>\n",
       "      <td>Number of Open Accounts</td>\n",
       "      <td>0.211446</td>\n",
       "    </tr>\n",
       "    <tr>\n",
       "      <th>11</th>\n",
       "      <td>Current Credit Balance</td>\n",
       "      <td>0.204253</td>\n",
       "    </tr>\n",
       "    <tr>\n",
       "      <th>12</th>\n",
       "      <td>Years_in_current_job</td>\n",
       "      <td>0.057565</td>\n",
       "    </tr>\n",
       "    <tr>\n",
       "      <th>13</th>\n",
       "      <td>Credit Problems</td>\n",
       "      <td>0.043293</td>\n",
       "    </tr>\n",
       "    <tr>\n",
       "      <th>14</th>\n",
       "      <td>Debt_Consolidation</td>\n",
       "      <td>0.040613</td>\n",
       "    </tr>\n",
       "    <tr>\n",
       "      <th>15</th>\n",
       "      <td>Tax_Liens</td>\n",
       "      <td>0.025929</td>\n",
       "    </tr>\n",
       "    <tr>\n",
       "      <th>16</th>\n",
       "      <td>Bankruptcies_</td>\n",
       "      <td>0.025250</td>\n",
       "    </tr>\n",
       "  </tbody>\n",
       "</table>\n",
       "</div>"
      ],
      "text/plain": [
       "                      Feature Id  Importances\n",
       "0                    Large_Score    70.755899\n",
       "1            Current Loan Amount    10.779937\n",
       "2                   Credit Score     8.557765\n",
       "3                           Term     4.130540\n",
       "4                  Annual Income     3.221372\n",
       "5            Maximum Open Credit     0.599759\n",
       "6                 Home_Ownership     0.395875\n",
       "7                   Monthly Debt     0.379080\n",
       "8        Years of Credit History     0.301305\n",
       "9   Months since last delinquent     0.270120\n",
       "10       Number of Open Accounts     0.211446\n",
       "11        Current Credit Balance     0.204253\n",
       "12          Years_in_current_job     0.057565\n",
       "13               Credit Problems     0.043293\n",
       "14            Debt_Consolidation     0.040613\n",
       "15                     Tax_Liens     0.025929\n",
       "16                 Bankruptcies_     0.025250"
      ]
     },
     "execution_count": 34,
     "metadata": {},
     "output_type": "execute_result"
    }
   ],
   "source": [
    "catboost_final.get_feature_importance(prettified=True)"
   ]
  },
  {
   "cell_type": "markdown",
   "id": "14d7449c",
   "metadata": {},
   "source": [
    "##### Учу модель на всех данных. Делаю предсказания для тестовых данных"
   ]
  },
  {
   "cell_type": "code",
   "execution_count": 35,
   "id": "dfed5eb7",
   "metadata": {},
   "outputs": [],
   "source": [
    "data_prep.fit(X)\n",
    "X = data_prep.transform(X)\n",
    "\n",
    "catboost_final.fit(X, y, cat_features=CAT_FEATURE_NAMES)\n",
    "\n",
    "with open(MODEL_FILE_PATH, 'wb') as file:\n",
    "    pickle.dump(catboost_final, file)"
   ]
  },
  {
   "cell_type": "code",
   "execution_count": 36,
   "id": "96ae9903",
   "metadata": {},
   "outputs": [],
   "source": [
    "df_test = pd.read_csv(TEST_DATASET_PATH)\n",
    "\n",
    "df_test = data_prep.transform(df_test)"
   ]
  },
  {
   "cell_type": "code",
   "execution_count": 37,
   "id": "409a30bb",
   "metadata": {},
   "outputs": [],
   "source": [
    "pred_prob = catboost_final.predict_proba(df_test)\n",
    "\n",
    "y_test = np.array([1 if val > 0.29 else 0 for val in pred_prob[:,1]])"
   ]
  },
  {
   "cell_type": "code",
   "execution_count": 38,
   "id": "13d2e40a",
   "metadata": {},
   "outputs": [],
   "source": [
    "df_test['Credit Default'] = y"
   ]
  },
  {
   "cell_type": "code",
   "execution_count": 39,
   "id": "0ba77c9d",
   "metadata": {},
   "outputs": [],
   "source": [
    "df_test['Credit Default'].to_csv('data/NilTimofeev_predictions.csv', encoding='utf-8', index=False)"
   ]
  }
 ],
 "metadata": {
  "kernelspec": {
   "display_name": "Python 3 (ipykernel)",
   "language": "python",
   "name": "python3"
  },
  "language_info": {
   "codemirror_mode": {
    "name": "ipython",
    "version": 3
   },
   "file_extension": ".py",
   "mimetype": "text/x-python",
   "name": "python",
   "nbconvert_exporter": "python",
   "pygments_lexer": "ipython3",
   "version": "3.9.7"
  }
 },
 "nbformat": 4,
 "nbformat_minor": 5
}
